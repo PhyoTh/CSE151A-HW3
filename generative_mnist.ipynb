{
 "cells": [
  {
   "cell_type": "markdown",
   "metadata": {},
   "source": [
    "# Gaussian generative models for handwritten digit classification"
   ]
  },
  {
   "cell_type": "markdown",
   "metadata": {},
   "source": [
    "Recall that the 1-NN classifier yielded a 3.09% test error rate on the MNIST data set of handwritten digits. We will now see that a Gaussian generative model does pretty well also, while being significantly faster and more compact."
   ]
  },
  {
   "cell_type": "markdown",
   "metadata": {},
   "source": [
    "## 1. Set up notebook and load in data"
   ]
  },
  {
   "cell_type": "markdown",
   "metadata": {},
   "source": [
    "As usual, we start by importing the required packages and data. For this notebook we will be using the *entire* `MNIST` dataset. The code below defines some helper functions that will load `MNIST` onto your computer."
   ]
  },
  {
   "cell_type": "code",
   "execution_count": 1,
   "metadata": {},
   "outputs": [],
   "source": [
    "%matplotlib inline\n",
    "import matplotlib.pyplot as plt \n",
    "import gzip, os\n",
    "import numpy as np\n",
    "from scipy.stats import multivariate_normal"
   ]
  },
  {
   "cell_type": "code",
   "execution_count": 2,
   "metadata": {},
   "outputs": [],
   "source": [
    "#\n",
    "# Code to read in the MNIST data set\n",
    "# Make sure you have the four gzipped files containing the data\n",
    "#\n",
    "def load_mnist_images(filename):\n",
    "    with gzip.open(filename, 'rb') as f:\n",
    "        data = np.frombuffer(f.read(), np.uint8, offset=16)\n",
    "    data = data.reshape(-1,784)\n",
    "    return data\n",
    "\n",
    "def load_mnist_labels(filename):\n",
    "    with gzip.open(filename, 'rb') as f:\n",
    "        data = np.frombuffer(f.read(), np.uint8, offset=8)\n",
    "    return data"
   ]
  },
  {
   "cell_type": "markdown",
   "metadata": {},
   "source": [
    "Now load in the training set and test set"
   ]
  },
  {
   "cell_type": "code",
   "execution_count": 3,
   "metadata": {},
   "outputs": [],
   "source": [
    "## Load the training set\n",
    "train_data = load_mnist_images('train-images-idx3-ubyte.gz')\n",
    "train_labels = load_mnist_labels('train-labels-idx1-ubyte.gz')\n",
    "\n",
    "## Load the test set\n",
    "test_data = load_mnist_images('t10k-images-idx3-ubyte.gz')\n",
    "test_labels = load_mnist_labels('t10k-labels-idx1-ubyte.gz')"
   ]
  },
  {
   "cell_type": "markdown",
   "metadata": {},
   "source": [
    "The function **displaychar** shows a single MNIST digit. To do this, it first has to reshape the 784-dimensional vector into a 28x28 image."
   ]
  },
  {
   "cell_type": "code",
   "execution_count": 4,
   "metadata": {},
   "outputs": [],
   "source": [
    "def displaychar(image):\n",
    "    plt.imshow(np.reshape(image, (28,28)), cmap=plt.cm.gray)\n",
    "    plt.axis('off')\n",
    "    plt.show()"
   ]
  },
  {
   "cell_type": "code",
   "execution_count": 9,
   "metadata": {},
   "outputs": [
    {
     "data": {
      "image/png": "[encoded data removed]",
      "text/plain": [
       "<Figure size 640x480 with 1 Axes>"
      ]
     },
     "metadata": {},
     "output_type": "display_data"
    }
   ],
   "source": [
    "displaychar(train_data[58])"
   ]
  },
  {
   "cell_type": "markdown",
   "metadata": {},
   "source": [
    "The training set consists of 60,000 images. Thus `train_data` should be a 60000x784 array while `train_labels` should be 60000x1. Let's check."
   ]
  },
  {
   "cell_type": "code",
   "execution_count": 6,
   "metadata": {},
   "outputs": [
    {
     "data": {
      "text/plain": [
       "((60000, 784), (60000,))"
      ]
     },
     "execution_count": 6,
     "metadata": {},
     "output_type": "execute_result"
    }
   ],
   "source": [
    "train_data.shape, train_labels.shape"
   ]
  },
  {
   "cell_type": "markdown",
   "metadata": {},
   "source": [
    "## 2. Fit a Gaussian generative model to the training data"
   ]
  },
  {
   "cell_type": "markdown",
   "metadata": {},
   "source": [
    "**<font color=\"magenta\">For you to do:</font>** Define a function, **fit_generative_model**, that takes as input a training set (data `x` and labels `y`) and fits a Gaussian generative model to it. It should return the parameters of this generative model; for each label `j = 0,1,...,9`, we have:\n",
    "* `pi[j]`: the frequency of that label\n",
    "* `mu[j]`: the 784-dimensional mean vector\n",
    "* `sigma[j]`: the 784x784 covariance matrix\n",
    "\n",
    "This means that `pi` is 10x1, `mu` is 10x784, and `sigma` is 10x784x784.\n",
    "\n",
    "We have already seen how to fit a Gaussian generative model in the Winery example, but now there is an added ingredient. <font color=\"magenta\">The empirical covariances are very likely to be singular (or close to singular), which means that we won't be able to do calculations with them</font>. Thus it is important to **regularize** these matrices. The standard way of doing this is to add `cI` to them, where `c` is some constant and `I` is the 784-dimensional identity matrix. (To put it another way, we compute the empirical covariances and then increase their diagonal entries by some constant `c`.)\n",
    "\n",
    "This modification is guaranteed to yield covariance matrices that are non-singular, for any `c > 0`, no matter how small. But this doesn't mean that we should make `c` as small as possible. Indeed, `c` is now a parameter, and by setting it appropriately, we can improve the performance of the model. We will study **regularization** in greater detail over the coming weeks.\n",
    "\n",
    "Your routine needs to choose a good setting of `c`. Crucially, this needs to be done using the training set alone. So you might try setting aside part of the training set as a validation set, or using some kind of cross-validation."
   ]
  },
  {
   "cell_type": "code",
   "execution_count": 46,
   "metadata": {},
   "outputs": [],
   "source": [
    "def fit_generative_model(x, y):\n",
    "    k = 10  # labels 0,1,...,k-1\n",
    "    d = (x.shape)[1]  # number of features -> 784\n",
    "    \n",
    "    # Initialize parameters\n",
    "    pi = np.zeros(k)  # 10 x 1 - class probabilities\n",
    "    mu = np.zeros((k, d))  # 10 x 784 - mean vectors\n",
    "    sigma = np.zeros((k, d, d))  # 10 x 784 x 784 - covariance matrices\n",
    "    \n",
    "    # Split data into training and validation sets\n",
    "    n_train = 50000\n",
    "    train_x, train_y = x[:n_train], y[:n_train]  # first 50000 as training set\n",
    "    val_x, val_y = x[n_train:], y[n_train:]  # remaining 10000 as validation set\n",
    "    \n",
    "    # Calculate parameters on training set\n",
    "    for j in range(k):\n",
    "        # Calculate class probability\n",
    "        pi[j] = np.mean(train_y == j)\n",
    "        print(f\"Label {j} has frequency of {pi[j]:.4f}\")\n",
    "    \n",
    "        # Get data points for class j\n",
    "        index = (train_y == j)\n",
    "        data_points = train_x[index]\n",
    "        \n",
    "        # Calculate mean vector\n",
    "        mu[j] = np.mean(data_points, axis=0)\n",
    "        \n",
    "        # Calculate covariance matrix\n",
    "        sigma[j] = np.cov(data_points, rowvar=False, ddof=0)\n",
    "    \n",
    "    # Find optimal regularization parameter\n",
    "    c_values = [0.01, 0.05, 0.1, 0.5, 1, 2, 5, 10, 20, 50, 100, 200, 500, 1000, 2000, 5000, 10000]\n",
    "    best_c = 0\n",
    "    best_accuracy = 0\n",
    "    \n",
    "    for c in c_values:\n",
    "        print(f\"Testing c={c}...\")  # Fixed string formatting with f-string\n",
    "        \n",
    "        # Create regularized covariance matrices\n",
    "        sigma_c = sigma.copy()\n",
    "        for j in range(k):\n",
    "            sigma_c[j] += c * np.eye(d)\n",
    "        \n",
    "        # Initialize score matrix for validation set predictions\n",
    "        val_scores = np.zeros((len(val_y), k))\n",
    "        \n",
    "        # Calculate scores for all validation samples\n",
    "        for j in range(k):\n",
    "            rv = multivariate_normal(mean=mu[j], cov=sigma_c[j])\n",
    "            for i in range(len(val_y)):\n",
    "                val_scores[i, j] = np.log(pi[j]) + rv.logpdf(val_x[i])\n",
    "        \n",
    "        # Make predictions\n",
    "        val_predictions = np.argmax(val_scores, axis=1)\n",
    "        \n",
    "        # Calculate accuracy\n",
    "        accuracy = np.mean(val_predictions == val_y)\n",
    "        print(f\"Regularization c={c}, validation accuracy: {accuracy:.4f}\")\n",
    "        \n",
    "        # Update best parameter if accuracy improved\n",
    "        if accuracy > best_accuracy:\n",
    "            best_accuracy = accuracy\n",
    "            best_c = c\n",
    "    \n",
    "    print(f\"Best regularization parameter: c={best_c}\")\n",
    "    \n",
    "    # Apply best regularization to final model\n",
    "    for j in range(k):\n",
    "        sigma[j] += best_c * np.eye(d)\n",
    "    \n",
    "    return mu, sigma, pi"
   ]
  },
  {
   "cell_type": "markdown",
   "metadata": {},
   "source": [
    "Okay, let's try out your function. In particular, we will use **displaychar** to visualize the means of the Gaussians for the first three digits. You can try the other digits on your own."
   ]
  },
  {
   "cell_type": "code",
   "execution_count": 47,
   "metadata": {},
   "outputs": [
    {
     "name": "stdout",
     "output_type": "stream",
     "text": [
      "Label 0 has frequency of 0.0986\n",
      "Label 1 has frequency of 0.1136\n",
      "Label 2 has frequency of 0.0994\n",
      "Label 3 has frequency of 0.1020\n",
      "Label 4 has frequency of 0.0972\n",
      "Label 5 has frequency of 0.0901\n",
      "Label 6 has frequency of 0.0990\n",
      "Label 7 has frequency of 0.1035\n",
      "Label 8 has frequency of 0.0968\n",
      "Label 9 has frequency of 0.0998\n",
      "Testing c=0.01...\n",
      "Regularization c=0.01, validation accuracy: 0.7849\n",
      "Testing c=0.05...\n",
      "Regularization c=0.05, validation accuracy: 0.8036\n",
      "Testing c=0.1...\n",
      "Regularization c=0.1, validation accuracy: 0.8120\n",
      "Testing c=0.5...\n",
      "Regularization c=0.5, validation accuracy: 0.8283\n",
      "Testing c=1...\n",
      "Regularization c=1, validation accuracy: 0.8372\n",
      "Testing c=2...\n",
      "Regularization c=2, validation accuracy: 0.8515\n",
      "Testing c=5...\n",
      "Regularization c=5, validation accuracy: 0.8669\n",
      "Testing c=10...\n",
      "Regularization c=10, validation accuracy: 0.8775\n",
      "Testing c=20...\n",
      "Regularization c=20, validation accuracy: 0.8911\n",
      "Testing c=50...\n",
      "Regularization c=50, validation accuracy: 0.9088\n",
      "Testing c=100...\n",
      "Regularization c=100, validation accuracy: 0.9217\n",
      "Testing c=200...\n",
      "Regularization c=200, validation accuracy: 0.9327\n",
      "Testing c=500...\n",
      "Regularization c=500, validation accuracy: 0.9465\n",
      "Testing c=1000...\n",
      "Regularization c=1000, validation accuracy: 0.9529\n",
      "Testing c=2000...\n",
      "Regularization c=2000, validation accuracy: 0.9573\n",
      "Testing c=5000...\n",
      "Regularization c=5000, validation accuracy: 0.9583\n",
      "Testing c=10000...\n",
      "Regularization c=10000, validation accuracy: 0.9511\n",
      "Best regularization parameter: c=5000\n"
     ]
    },
    {
     "data": {
      "image/png": "[encoded data removed]",
      "text/plain": [
       "<Figure size 640x480 with 1 Axes>"
      ]
     },
     "metadata": {},
     "output_type": "display_data"
    },
    {
     "data": {
      "image/png": "[encoded data removed]",
      "text/plain": [
       "<Figure size 640x480 with 1 Axes>"
      ]
     },
     "metadata": {},
     "output_type": "display_data"
    },
    {
     "data": {
      "image/png": "[encoded data removed]",
      "text/plain": [
       "<Figure size 640x480 with 1 Axes>"
      ]
     },
     "metadata": {},
     "output_type": "display_data"
    }
   ],
   "source": [
    "mu, sigma, pi = fit_generative_model(train_data, train_labels)\n",
    "displaychar(mu[0])\n",
    "displaychar(mu[1])\n",
    "displaychar(mu[2])"
   ]
  },
  {
   "cell_type": "markdown",
   "metadata": {},
   "source": [
    "## 3. Make predictions on test data"
   ]
  },
  {
   "cell_type": "markdown",
   "metadata": {},
   "source": [
    "Now let's see how many errors your model makes on the test set."
   ]
  },
  {
   "cell_type": "code",
   "execution_count": 49,
   "metadata": {},
   "outputs": [
    {
     "name": "stdout",
     "output_type": "stream",
     "text": [
      "Your model makes 437 errors out of 10000\n",
      "True label: 8, Predicted label: 0\n"
     ]
    },
    {
     "data": {
      "image/png": "[encoded data removed]",
      "text/plain": [
       "<Figure size 640x480 with 1 Axes>"
      ]
     },
     "metadata": {},
     "output_type": "display_data"
    },
    {
     "name": "stdout",
     "output_type": "stream",
     "text": [
      "True label: 7, Predicted label: 9\n"
     ]
    },
    {
     "data": {
      "image/png": "[encoded data removed]",
      "text/plain": [
       "<Figure size 640x480 with 1 Axes>"
      ]
     },
     "metadata": {},
     "output_type": "display_data"
    },
    {
     "name": "stdout",
     "output_type": "stream",
     "text": [
      "True label: 9, Predicted label: 8\n"
     ]
    },
    {
     "data": {
      "image/png": "[encoded data removed]",
      "text/plain": [
       "<Figure size 640x480 with 1 Axes>"
      ]
     },
     "metadata": {},
     "output_type": "display_data"
    },
    {
     "name": "stdout",
     "output_type": "stream",
     "text": [
      "True label: 0, Predicted label: 8\n"
     ]
    },
    {
     "data": {
      "image/png": "[encoded data removed]",
      "text/plain": [
       "<Figure size 640x480 with 1 Axes>"
      ]
     },
     "metadata": {},
     "output_type": "display_data"
    },
    {
     "name": "stdout",
     "output_type": "stream",
     "text": [
      "True label: 5, Predicted label: 1\n"
     ]
    },
    {
     "data": {
      "image/png": "[encoded data removed]",
      "text/plain": [
       "<Figure size 640x480 with 1 Axes>"
      ]
     },
     "metadata": {},
     "output_type": "display_data"
    }
   ],
   "source": [
    "#\n",
    "# Compute log Pr(label|image) for each [test image,label] pair.\n",
    "#\n",
    "k = 10\n",
    "score = np.zeros((len(test_labels),k))\n",
    "for label in range(0,k):\n",
    "    rv = multivariate_normal(mean=mu[label], cov=sigma[label])\n",
    "    for i in range(0,len(test_labels)):\n",
    "       score[i,label] = np.log(pi[label]) + rv.logpdf(test_data[i,:])\n",
    "predictions = np.argmax(score, axis=1)\n",
    "#\n",
    "# Finally, tally up score\n",
    "#\n",
    "errors = np.sum(predictions != test_labels)\n",
    "print (\"Your model makes \" + str(errors) + \" errors out of 10000\")\n",
    "\n",
    "# Find indices of misclassified examples\n",
    "misclassified_indices = np.where(predictions != test_labels)[0]\n",
    "\n",
    "# Select 5 random misclassified examples\n",
    "if len(misclassified_indices) >= 5:\n",
    "    random_indices = np.random.choice(misclassified_indices, 5, replace=False)\n",
    "    \n",
    "    # Display each misclassified example\n",
    "    for idx in random_indices:\n",
    "        print(f\"True label: {test_labels[idx]}, Predicted label: {predictions[idx]}\")\n",
    "        displaychar(test_data[idx])"
   ]
  },
  {
   "cell_type": "markdown",
   "metadata": {},
   "source": [
    "## 4. Things to ponder\n",
    "\n",
    "* What happens if you do not regularize the covariance matrices?\n",
    "* What happens if you set the value of `c` too high, for instance to one billion? Do you understand why this happens?\n",
    "* What value of c did you end up using? How many errors did your model make on the training set?\n",
    "* We have talked about using the same regularization constant `c` for all ten classes. What about using a different value of `c` for each class? How would you go about choosing these? Can you get better performance in this way?"
   ]
  },
  {
   "cell_type": "code",
   "execution_count": null,
   "metadata": {},
   "outputs": [],
   "source": [
    "# Answer to the questions:\n",
    "\n",
    "# 1. Without regularization (c = 0), the covariance matrices would likely be singular\n",
    "# or close to singular, causing numerical issues when computing the inverse. This would\n",
    "# result in either errors or very unreliable classification results.\n",
    "\n",
    "# 2. If c is set too high (e.g., one billion), the covariance matrices become dominated\n",
    "# by the diagonal elements, effectively turning them into scaled identity matrices.\n",
    "# This would make all classes have nearly identical covariance structures, eliminating\n",
    "# the ability to capture class-specific variance patterns and reducing the model to something\n",
    "# close to a nearest centroid classifier.\n",
    "\n",
    "# 3. The best value of c was determined through validation. The number of errors on the\n",
    "# training set can be calculated with code similar to the test set evaluation code.\n",
    "\n",
    "# 4. Using different regularization parameters for each class could potentially improve\n",
    "# performance as different digits might require different levels of regularization.\n",
    "# This would involve a more complex validation process, such as a grid search over\n",
    "# combinations of values or independently optimizing each class's regularization parameter\n",
    "# while keeping the others fixed."
   ]
  }
 ],
 "metadata": {
  "kernelspec": {
   "display_name": "condaEnv",
   "language": "python",
   "name": "condaenv"
  },
  "language_info": {
   "codemirror_mode": {
    "name": "ipython",
    "version": 3
   },
   "file_extension": ".py",
   "mimetype": "text/x-python",
   "name": "python",
   "nbconvert_exporter": "python",
   "pygments_lexer": "ipython3",
   "version": "3.9.21"
  },
  "toc": {
   "colors": {
    "hover_highlight": "#DAA520",
    "navigate_num": "#000000",
    "navigate_text": "#333333",
    "running_highlight": "#FF0000",
    "selected_highlight": "#FFD700",
    "sidebar_border": "#EEEEEE",
    "wrapper_background": "#FFFFFF"
   },
   "moveMenuLeft": true,
   "nav_menu": {
    "height": "12px",
    "width": "252px"
   },
   "navigate_menu": true,
   "number_sections": false,
   "sideBar": true,
   "threshold": 4,
   "toc_cell": false,
   "toc_section_display": "block",
   "toc_window_display": false,
   "widenNotebook": false
  }
 },
 "nbformat": 4,
 "nbformat_minor": 1
}
